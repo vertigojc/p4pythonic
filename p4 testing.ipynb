{
 "cells": [
  {
   "cell_type": "code",
   "execution_count": 13,
   "metadata": {},
   "outputs": [],
   "source": [
    "from P4 import P4, P4Exception\n",
    "import datetime"
   ]
  },
  {
   "cell_type": "code",
   "execution_count": 10,
   "metadata": {},
   "outputs": [
    {
     "data": {
      "text/plain": [
       "[{'User': 'jlindgren', 'TicketExpiration': '466393694'}]"
      ]
     },
     "execution_count": 10,
     "metadata": {},
     "output_type": "execute_result"
    }
   ],
   "source": [
    "p4 = P4()\n",
    "p4.connect()\n"
   ]
  },
  {
   "cell_type": "code",
   "execution_count": 34,
   "metadata": {},
   "outputs": [
    {
     "data": {
      "text/plain": [
       "'standard'"
      ]
     },
     "execution_count": 34,
     "metadata": {},
     "output_type": "execute_result"
    }
   ],
   "source": [
    "user = p4.fetch_user(\"jlindgren\")\n",
    "user._type"
   ]
  },
  {
   "cell_type": "code",
   "execution_count": 21,
   "metadata": {},
   "outputs": [
    {
     "data": {
      "text/plain": [
       "[{'depotFile': '//misc_code/dev/FMC/charuco_board_image.png',\n",
       "  'rev': '1',\n",
       "  'change': '97',\n",
       "  'action': 'branch',\n",
       "  'type': 'binary+l',\n",
       "  'time': '1639685790'},\n",
       " {'depotFile': '//misc_code/dev/FMC/create_charuco_board.py',\n",
       "  'rev': '1',\n",
       "  'change': '97',\n",
       "  'action': 'branch',\n",
       "  'type': 'text',\n",
       "  'time': '1639685790'},\n",
       " {'depotFile': '//misc_code/dev/FMC/readme.txt',\n",
       "  'rev': '1',\n",
       "  'change': '97',\n",
       "  'action': 'branch',\n",
       "  'type': 'text',\n",
       "  'time': '1639685790'},\n",
       " {'depotFile': '//misc_code/dev/FMC/requirements.txt',\n",
       "  'rev': '1',\n",
       "  'change': '97',\n",
       "  'action': 'branch',\n",
       "  'type': 'utf16',\n",
       "  'time': '1639685790'},\n",
       " {'depotFile': '//misc_code/dev/FMC/runme_script.py',\n",
       "  'rev': '1',\n",
       "  'change': '97',\n",
       "  'action': 'branch',\n",
       "  'type': 'text',\n",
       "  'time': '1639685790'}]"
      ]
     },
     "execution_count": 21,
     "metadata": {},
     "output_type": "execute_result"
    }
   ],
   "source": [
    "files = p4.run_files('//misc_code/dev/FMC/...')\n",
    "files"
   ]
  },
  {
   "cell_type": "code",
   "execution_count": 40,
   "metadata": {},
   "outputs": [
    {
     "data": {
      "text/plain": [
       "{'User': 'coolguy', 'Email': 'coolguy@Jasurface', 'FullName': 'coolguy'}"
      ]
     },
     "execution_count": 40,
     "metadata": {},
     "output_type": "execute_result"
    }
   ],
   "source": [
    "username = \"coolguy\"\n",
    "user = p4.run_user(\"-o\", username)[0]\n",
    "user"
   ]
  },
  {
   "cell_type": "code",
   "execution_count": 41,
   "metadata": {},
   "outputs": [
    {
     "data": {
      "text/plain": [
       "{'User': 'coolguy', 'Email': 'coolguy@perforce.com', 'FullName': 'coolguy'}"
      ]
     },
     "execution_count": 41,
     "metadata": {},
     "output_type": "execute_result"
    }
   ],
   "source": [
    "user[\"Email\"] = 'coolguy@perforce.com'\n",
    "user"
   ]
  },
  {
   "cell_type": "code",
   "execution_count": 43,
   "metadata": {},
   "outputs": [
    {
     "data": {
      "text/plain": [
       "['User coolguy saved.']"
      ]
     },
     "execution_count": 43,
     "metadata": {},
     "output_type": "execute_result"
    }
   ],
   "source": [
    "p4.input = user\n",
    "p4.run_user(\"-if\")\n"
   ]
  },
  {
   "cell_type": "code",
   "execution_count": 48,
   "metadata": {},
   "outputs": [
    {
     "data": {
      "text/plain": [
       "['Password updated.']"
      ]
     },
     "execution_count": 48,
     "metadata": {},
     "output_type": "execute_result"
    }
   ],
   "source": [
    "p4.input = \"mycoolPassword\"\n",
    "p4.run(\"passwd\", username)"
   ]
  },
  {
   "cell_type": "code",
   "execution_count": null,
   "metadata": {},
   "outputs": [],
   "source": []
  }
 ],
 "metadata": {
  "kernelspec": {
   "display_name": "Python 3",
   "language": "python",
   "name": "python3"
  },
  "language_info": {
   "codemirror_mode": {
    "name": "ipython",
    "version": 3
   },
   "file_extension": ".py",
   "mimetype": "text/x-python",
   "name": "python",
   "nbconvert_exporter": "python",
   "pygments_lexer": "ipython3",
   "version": "3.10.11"
  },
  "orig_nbformat": 4
 },
 "nbformat": 4,
 "nbformat_minor": 2
}
